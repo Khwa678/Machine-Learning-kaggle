{
 "cells": [
  {
   "cell_type": "code",
   "execution_count": 1,
   "id": "0cc71214",
   "metadata": {
    "_cell_guid": "b1076dfc-b9ad-4769-8c92-a6c4dae69d19",
    "_uuid": "8f2839f25d086af736a60e9eeb907d3b93b6e0e5",
    "execution": {
     "iopub.execute_input": "2025-09-30T16:13:02.546640Z",
     "iopub.status.busy": "2025-09-30T16:13:02.545908Z",
     "iopub.status.idle": "2025-09-30T16:13:04.793696Z",
     "shell.execute_reply": "2025-09-30T16:13:04.792530Z"
    },
    "papermill": {
     "duration": 2.262876,
     "end_time": "2025-09-30T16:13:04.795382",
     "exception": false,
     "start_time": "2025-09-30T16:13:02.532506",
     "status": "completed"
    },
    "tags": []
   },
   "outputs": [
    {
     "name": "stdout",
     "output_type": "stream",
     "text": [
      "/kaggle/input/spaceship-titanic/sample_submission.csv\n",
      "/kaggle/input/spaceship-titanic/train.csv\n",
      "/kaggle/input/spaceship-titanic/test.csv\n"
     ]
    }
   ],
   "source": [
    "# This Python 3 environment comes with many helpful analytics libraries installed\n",
    "# It is defined by the kaggle/python Docker image: https://github.com/kaggle/docker-python\n",
    "# For example, here's several helpful packages to load\n",
    "\n",
    "import numpy as np # linear algebra\n",
    "import pandas as pd # data processing, CSV file I/O (e.g. pd.read_csv)\n",
    "\n",
    "# Input data files are available in the read-only \"../input/\" directory\n",
    "# For example, running this (by clicking run or pressing Shift+Enter) will list all files under the input directory\n",
    "\n",
    "import os\n",
    "for dirname, _, filenames in os.walk('/kaggle/input'):\n",
    "    for filename in filenames:\n",
    "        print(os.path.join(dirname, filename))\n",
    "\n",
    "# You can write up to 20GB to the current directory (/kaggle/working/) that gets preserved as output when you create a version using \"Save & Run All\" \n",
    "# You can also write temporary files to /kaggle/temp/, but they won't be saved outside of the current session"
   ]
  },
  {
   "cell_type": "code",
   "execution_count": null,
   "id": "c42c5bf3",
   "metadata": {
    "execution": {
     "iopub.execute_input": "2025-09-30T15:47:10.903144Z",
     "iopub.status.busy": "2025-09-30T15:47:10.902844Z",
     "iopub.status.idle": "2025-09-30T15:47:13.118513Z",
     "shell.execute_reply": "2025-09-30T15:47:13.116919Z",
     "shell.execute_reply.started": "2025-09-30T15:47:10.903116Z"
    },
    "papermill": {
     "duration": 0.011228,
     "end_time": "2025-09-30T16:13:04.817535",
     "exception": false,
     "start_time": "2025-09-30T16:13:04.806307",
     "status": "completed"
    },
    "tags": []
   },
   "outputs": [],
   "source": []
  },
  {
   "cell_type": "code",
   "execution_count": 2,
   "id": "f2bd2563",
   "metadata": {
    "execution": {
     "iopub.execute_input": "2025-09-30T16:13:04.842868Z",
     "iopub.status.busy": "2025-09-30T16:13:04.842111Z",
     "iopub.status.idle": "2025-09-30T16:13:04.971505Z",
     "shell.execute_reply": "2025-09-30T16:13:04.970341Z"
    },
    "papermill": {
     "duration": 0.144167,
     "end_time": "2025-09-30T16:13:04.973039",
     "exception": false,
     "start_time": "2025-09-30T16:13:04.828872",
     "status": "completed"
    },
    "tags": []
   },
   "outputs": [
    {
     "name": "stdout",
     "output_type": "stream",
     "text": [
      "(8693, 14)\n",
      "(4277, 13)\n"
     ]
    },
    {
     "data": {
      "text/html": [
       "<div>\n",
       "<style scoped>\n",
       "    .dataframe tbody tr th:only-of-type {\n",
       "        vertical-align: middle;\n",
       "    }\n",
       "\n",
       "    .dataframe tbody tr th {\n",
       "        vertical-align: top;\n",
       "    }\n",
       "\n",
       "    .dataframe thead th {\n",
       "        text-align: right;\n",
       "    }\n",
       "</style>\n",
       "<table border=\"1\" class=\"dataframe\">\n",
       "  <thead>\n",
       "    <tr style=\"text-align: right;\">\n",
       "      <th></th>\n",
       "      <th>PassengerId</th>\n",
       "      <th>HomePlanet</th>\n",
       "      <th>CryoSleep</th>\n",
       "      <th>Cabin</th>\n",
       "      <th>Destination</th>\n",
       "      <th>Age</th>\n",
       "      <th>VIP</th>\n",
       "      <th>RoomService</th>\n",
       "      <th>FoodCourt</th>\n",
       "      <th>ShoppingMall</th>\n",
       "      <th>Spa</th>\n",
       "      <th>VRDeck</th>\n",
       "      <th>Name</th>\n",
       "      <th>Transported</th>\n",
       "    </tr>\n",
       "  </thead>\n",
       "  <tbody>\n",
       "    <tr>\n",
       "      <th>0</th>\n",
       "      <td>0001_01</td>\n",
       "      <td>Europa</td>\n",
       "      <td>False</td>\n",
       "      <td>B/0/P</td>\n",
       "      <td>TRAPPIST-1e</td>\n",
       "      <td>39.0</td>\n",
       "      <td>False</td>\n",
       "      <td>0.0</td>\n",
       "      <td>0.0</td>\n",
       "      <td>0.0</td>\n",
       "      <td>0.0</td>\n",
       "      <td>0.0</td>\n",
       "      <td>Maham Ofracculy</td>\n",
       "      <td>False</td>\n",
       "    </tr>\n",
       "    <tr>\n",
       "      <th>1</th>\n",
       "      <td>0002_01</td>\n",
       "      <td>Earth</td>\n",
       "      <td>False</td>\n",
       "      <td>F/0/S</td>\n",
       "      <td>TRAPPIST-1e</td>\n",
       "      <td>24.0</td>\n",
       "      <td>False</td>\n",
       "      <td>109.0</td>\n",
       "      <td>9.0</td>\n",
       "      <td>25.0</td>\n",
       "      <td>549.0</td>\n",
       "      <td>44.0</td>\n",
       "      <td>Juanna Vines</td>\n",
       "      <td>True</td>\n",
       "    </tr>\n",
       "    <tr>\n",
       "      <th>2</th>\n",
       "      <td>0003_01</td>\n",
       "      <td>Europa</td>\n",
       "      <td>False</td>\n",
       "      <td>A/0/S</td>\n",
       "      <td>TRAPPIST-1e</td>\n",
       "      <td>58.0</td>\n",
       "      <td>True</td>\n",
       "      <td>43.0</td>\n",
       "      <td>3576.0</td>\n",
       "      <td>0.0</td>\n",
       "      <td>6715.0</td>\n",
       "      <td>49.0</td>\n",
       "      <td>Altark Susent</td>\n",
       "      <td>False</td>\n",
       "    </tr>\n",
       "    <tr>\n",
       "      <th>3</th>\n",
       "      <td>0003_02</td>\n",
       "      <td>Europa</td>\n",
       "      <td>False</td>\n",
       "      <td>A/0/S</td>\n",
       "      <td>TRAPPIST-1e</td>\n",
       "      <td>33.0</td>\n",
       "      <td>False</td>\n",
       "      <td>0.0</td>\n",
       "      <td>1283.0</td>\n",
       "      <td>371.0</td>\n",
       "      <td>3329.0</td>\n",
       "      <td>193.0</td>\n",
       "      <td>Solam Susent</td>\n",
       "      <td>False</td>\n",
       "    </tr>\n",
       "    <tr>\n",
       "      <th>4</th>\n",
       "      <td>0004_01</td>\n",
       "      <td>Earth</td>\n",
       "      <td>False</td>\n",
       "      <td>F/1/S</td>\n",
       "      <td>TRAPPIST-1e</td>\n",
       "      <td>16.0</td>\n",
       "      <td>False</td>\n",
       "      <td>303.0</td>\n",
       "      <td>70.0</td>\n",
       "      <td>151.0</td>\n",
       "      <td>565.0</td>\n",
       "      <td>2.0</td>\n",
       "      <td>Willy Santantines</td>\n",
       "      <td>True</td>\n",
       "    </tr>\n",
       "  </tbody>\n",
       "</table>\n",
       "</div>"
      ],
      "text/plain": [
       "  PassengerId HomePlanet CryoSleep  Cabin  Destination   Age    VIP  \\\n",
       "0     0001_01     Europa     False  B/0/P  TRAPPIST-1e  39.0  False   \n",
       "1     0002_01      Earth     False  F/0/S  TRAPPIST-1e  24.0  False   \n",
       "2     0003_01     Europa     False  A/0/S  TRAPPIST-1e  58.0   True   \n",
       "3     0003_02     Europa     False  A/0/S  TRAPPIST-1e  33.0  False   \n",
       "4     0004_01      Earth     False  F/1/S  TRAPPIST-1e  16.0  False   \n",
       "\n",
       "   RoomService  FoodCourt  ShoppingMall     Spa  VRDeck               Name  \\\n",
       "0          0.0        0.0           0.0     0.0     0.0    Maham Ofracculy   \n",
       "1        109.0        9.0          25.0   549.0    44.0       Juanna Vines   \n",
       "2         43.0     3576.0           0.0  6715.0    49.0      Altark Susent   \n",
       "3          0.0     1283.0         371.0  3329.0   193.0       Solam Susent   \n",
       "4        303.0       70.0         151.0   565.0     2.0  Willy Santantines   \n",
       "\n",
       "   Transported  \n",
       "0        False  \n",
       "1         True  \n",
       "2        False  \n",
       "3        False  \n",
       "4         True  "
      ]
     },
     "execution_count": 2,
     "metadata": {},
     "output_type": "execute_result"
    }
   ],
   "source": [
    "import pandas as pd\n",
    "\n",
    "# Correct Kaggle paths\n",
    "train = pd.read_csv(\"/kaggle/input/spaceship-titanic/train.csv\")\n",
    "test  = pd.read_csv(\"/kaggle/input/spaceship-titanic/test.csv\")\n",
    "\n",
    "print(train.shape)\n",
    "print(test.shape)\n",
    "\n",
    "train.head()\n"
   ]
  },
  {
   "cell_type": "code",
   "execution_count": 3,
   "id": "538f4324",
   "metadata": {
    "execution": {
     "iopub.execute_input": "2025-09-30T16:13:04.997316Z",
     "iopub.status.busy": "2025-09-30T16:13:04.996496Z",
     "iopub.status.idle": "2025-09-30T16:13:05.066737Z",
     "shell.execute_reply": "2025-09-30T16:13:05.065559Z"
    },
    "papermill": {
     "duration": 0.084456,
     "end_time": "2025-09-30T16:13:05.068737",
     "exception": false,
     "start_time": "2025-09-30T16:13:04.984281",
     "status": "completed"
    },
    "tags": []
   },
   "outputs": [
    {
     "name": "stdout",
     "output_type": "stream",
     "text": [
      "<class 'pandas.core.frame.DataFrame'>\n",
      "RangeIndex: 8693 entries, 0 to 8692\n",
      "Data columns (total 14 columns):\n",
      " #   Column        Non-Null Count  Dtype  \n",
      "---  ------        --------------  -----  \n",
      " 0   PassengerId   8693 non-null   object \n",
      " 1   HomePlanet    8492 non-null   object \n",
      " 2   CryoSleep     8476 non-null   object \n",
      " 3   Cabin         8494 non-null   object \n",
      " 4   Destination   8511 non-null   object \n",
      " 5   Age           8514 non-null   float64\n",
      " 6   VIP           8490 non-null   object \n",
      " 7   RoomService   8512 non-null   float64\n",
      " 8   FoodCourt     8510 non-null   float64\n",
      " 9   ShoppingMall  8485 non-null   float64\n",
      " 10  Spa           8510 non-null   float64\n",
      " 11  VRDeck        8505 non-null   float64\n",
      " 12  Name          8493 non-null   object \n",
      " 13  Transported   8693 non-null   bool   \n",
      "dtypes: bool(1), float64(6), object(7)\n",
      "memory usage: 891.5+ KB\n",
      "None\n",
      "PassengerId       0\n",
      "HomePlanet      201\n",
      "CryoSleep       217\n",
      "Cabin           199\n",
      "Destination     182\n",
      "Age             179\n",
      "VIP             203\n",
      "RoomService     181\n",
      "FoodCourt       183\n",
      "ShoppingMall    208\n",
      "Spa             183\n",
      "VRDeck          188\n",
      "Name            200\n",
      "Transported       0\n",
      "dtype: int64\n"
     ]
    },
    {
     "data": {
      "text/html": [
       "<div>\n",
       "<style scoped>\n",
       "    .dataframe tbody tr th:only-of-type {\n",
       "        vertical-align: middle;\n",
       "    }\n",
       "\n",
       "    .dataframe tbody tr th {\n",
       "        vertical-align: top;\n",
       "    }\n",
       "\n",
       "    .dataframe thead th {\n",
       "        text-align: right;\n",
       "    }\n",
       "</style>\n",
       "<table border=\"1\" class=\"dataframe\">\n",
       "  <thead>\n",
       "    <tr style=\"text-align: right;\">\n",
       "      <th></th>\n",
       "      <th>Age</th>\n",
       "      <th>RoomService</th>\n",
       "      <th>FoodCourt</th>\n",
       "      <th>ShoppingMall</th>\n",
       "      <th>Spa</th>\n",
       "      <th>VRDeck</th>\n",
       "    </tr>\n",
       "  </thead>\n",
       "  <tbody>\n",
       "    <tr>\n",
       "      <th>count</th>\n",
       "      <td>8514.000000</td>\n",
       "      <td>8512.000000</td>\n",
       "      <td>8510.000000</td>\n",
       "      <td>8485.000000</td>\n",
       "      <td>8510.000000</td>\n",
       "      <td>8505.000000</td>\n",
       "    </tr>\n",
       "    <tr>\n",
       "      <th>mean</th>\n",
       "      <td>28.827930</td>\n",
       "      <td>224.687617</td>\n",
       "      <td>458.077203</td>\n",
       "      <td>173.729169</td>\n",
       "      <td>311.138778</td>\n",
       "      <td>304.854791</td>\n",
       "    </tr>\n",
       "    <tr>\n",
       "      <th>std</th>\n",
       "      <td>14.489021</td>\n",
       "      <td>666.717663</td>\n",
       "      <td>1611.489240</td>\n",
       "      <td>604.696458</td>\n",
       "      <td>1136.705535</td>\n",
       "      <td>1145.717189</td>\n",
       "    </tr>\n",
       "    <tr>\n",
       "      <th>min</th>\n",
       "      <td>0.000000</td>\n",
       "      <td>0.000000</td>\n",
       "      <td>0.000000</td>\n",
       "      <td>0.000000</td>\n",
       "      <td>0.000000</td>\n",
       "      <td>0.000000</td>\n",
       "    </tr>\n",
       "    <tr>\n",
       "      <th>25%</th>\n",
       "      <td>19.000000</td>\n",
       "      <td>0.000000</td>\n",
       "      <td>0.000000</td>\n",
       "      <td>0.000000</td>\n",
       "      <td>0.000000</td>\n",
       "      <td>0.000000</td>\n",
       "    </tr>\n",
       "    <tr>\n",
       "      <th>50%</th>\n",
       "      <td>27.000000</td>\n",
       "      <td>0.000000</td>\n",
       "      <td>0.000000</td>\n",
       "      <td>0.000000</td>\n",
       "      <td>0.000000</td>\n",
       "      <td>0.000000</td>\n",
       "    </tr>\n",
       "    <tr>\n",
       "      <th>75%</th>\n",
       "      <td>38.000000</td>\n",
       "      <td>47.000000</td>\n",
       "      <td>76.000000</td>\n",
       "      <td>27.000000</td>\n",
       "      <td>59.000000</td>\n",
       "      <td>46.000000</td>\n",
       "    </tr>\n",
       "    <tr>\n",
       "      <th>max</th>\n",
       "      <td>79.000000</td>\n",
       "      <td>14327.000000</td>\n",
       "      <td>29813.000000</td>\n",
       "      <td>23492.000000</td>\n",
       "      <td>22408.000000</td>\n",
       "      <td>24133.000000</td>\n",
       "    </tr>\n",
       "  </tbody>\n",
       "</table>\n",
       "</div>"
      ],
      "text/plain": [
       "               Age   RoomService     FoodCourt  ShoppingMall           Spa  \\\n",
       "count  8514.000000   8512.000000   8510.000000   8485.000000   8510.000000   \n",
       "mean     28.827930    224.687617    458.077203    173.729169    311.138778   \n",
       "std      14.489021    666.717663   1611.489240    604.696458   1136.705535   \n",
       "min       0.000000      0.000000      0.000000      0.000000      0.000000   \n",
       "25%      19.000000      0.000000      0.000000      0.000000      0.000000   \n",
       "50%      27.000000      0.000000      0.000000      0.000000      0.000000   \n",
       "75%      38.000000     47.000000     76.000000     27.000000     59.000000   \n",
       "max      79.000000  14327.000000  29813.000000  23492.000000  22408.000000   \n",
       "\n",
       "             VRDeck  \n",
       "count   8505.000000  \n",
       "mean     304.854791  \n",
       "std     1145.717189  \n",
       "min        0.000000  \n",
       "25%        0.000000  \n",
       "50%        0.000000  \n",
       "75%       46.000000  \n",
       "max    24133.000000  "
      ]
     },
     "execution_count": 3,
     "metadata": {},
     "output_type": "execute_result"
    }
   ],
   "source": [
    "print(train.info())      # check column names & data types\n",
    "print(train.isnull().sum())  # check missing values\n",
    "train.describe()         # basic stats\n"
   ]
  },
  {
   "cell_type": "code",
   "execution_count": 4,
   "id": "95c8e7c2",
   "metadata": {
    "execution": {
     "iopub.execute_input": "2025-09-30T16:13:05.095194Z",
     "iopub.status.busy": "2025-09-30T16:13:05.094839Z",
     "iopub.status.idle": "2025-09-30T16:13:05.124788Z",
     "shell.execute_reply": "2025-09-30T16:13:05.123738Z"
    },
    "papermill": {
     "duration": 0.044931,
     "end_time": "2025-09-30T16:13:05.126805",
     "exception": false,
     "start_time": "2025-09-30T16:13:05.081874",
     "status": "completed"
    },
    "tags": []
   },
   "outputs": [
    {
     "data": {
      "text/html": [
       "<div>\n",
       "<style scoped>\n",
       "    .dataframe tbody tr th:only-of-type {\n",
       "        vertical-align: middle;\n",
       "    }\n",
       "\n",
       "    .dataframe tbody tr th {\n",
       "        vertical-align: top;\n",
       "    }\n",
       "\n",
       "    .dataframe thead th {\n",
       "        text-align: right;\n",
       "    }\n",
       "</style>\n",
       "<table border=\"1\" class=\"dataframe\">\n",
       "  <thead>\n",
       "    <tr style=\"text-align: right;\">\n",
       "      <th></th>\n",
       "      <th>PassengerId</th>\n",
       "      <th>HomePlanet</th>\n",
       "      <th>CryoSleep</th>\n",
       "      <th>Cabin</th>\n",
       "      <th>Destination</th>\n",
       "      <th>Age</th>\n",
       "      <th>VIP</th>\n",
       "      <th>RoomService</th>\n",
       "      <th>FoodCourt</th>\n",
       "      <th>ShoppingMall</th>\n",
       "      <th>Spa</th>\n",
       "      <th>VRDeck</th>\n",
       "      <th>Name</th>\n",
       "      <th>Transported</th>\n",
       "    </tr>\n",
       "  </thead>\n",
       "  <tbody>\n",
       "    <tr>\n",
       "      <th>0</th>\n",
       "      <td>0001_01</td>\n",
       "      <td>Europa</td>\n",
       "      <td>False</td>\n",
       "      <td>B/0/P</td>\n",
       "      <td>TRAPPIST-1e</td>\n",
       "      <td>39.0</td>\n",
       "      <td>False</td>\n",
       "      <td>0.0</td>\n",
       "      <td>0.0</td>\n",
       "      <td>0.0</td>\n",
       "      <td>0.0</td>\n",
       "      <td>0.0</td>\n",
       "      <td>Maham Ofracculy</td>\n",
       "      <td>False</td>\n",
       "    </tr>\n",
       "    <tr>\n",
       "      <th>1</th>\n",
       "      <td>0002_01</td>\n",
       "      <td>Earth</td>\n",
       "      <td>False</td>\n",
       "      <td>F/0/S</td>\n",
       "      <td>TRAPPIST-1e</td>\n",
       "      <td>24.0</td>\n",
       "      <td>False</td>\n",
       "      <td>109.0</td>\n",
       "      <td>9.0</td>\n",
       "      <td>25.0</td>\n",
       "      <td>549.0</td>\n",
       "      <td>44.0</td>\n",
       "      <td>Juanna Vines</td>\n",
       "      <td>True</td>\n",
       "    </tr>\n",
       "    <tr>\n",
       "      <th>2</th>\n",
       "      <td>0003_01</td>\n",
       "      <td>Europa</td>\n",
       "      <td>False</td>\n",
       "      <td>A/0/S</td>\n",
       "      <td>TRAPPIST-1e</td>\n",
       "      <td>58.0</td>\n",
       "      <td>True</td>\n",
       "      <td>43.0</td>\n",
       "      <td>3576.0</td>\n",
       "      <td>0.0</td>\n",
       "      <td>6715.0</td>\n",
       "      <td>49.0</td>\n",
       "      <td>Altark Susent</td>\n",
       "      <td>False</td>\n",
       "    </tr>\n",
       "    <tr>\n",
       "      <th>3</th>\n",
       "      <td>0003_02</td>\n",
       "      <td>Europa</td>\n",
       "      <td>False</td>\n",
       "      <td>A/0/S</td>\n",
       "      <td>TRAPPIST-1e</td>\n",
       "      <td>33.0</td>\n",
       "      <td>False</td>\n",
       "      <td>0.0</td>\n",
       "      <td>1283.0</td>\n",
       "      <td>371.0</td>\n",
       "      <td>3329.0</td>\n",
       "      <td>193.0</td>\n",
       "      <td>Solam Susent</td>\n",
       "      <td>False</td>\n",
       "    </tr>\n",
       "    <tr>\n",
       "      <th>4</th>\n",
       "      <td>0004_01</td>\n",
       "      <td>Earth</td>\n",
       "      <td>False</td>\n",
       "      <td>F/1/S</td>\n",
       "      <td>TRAPPIST-1e</td>\n",
       "      <td>16.0</td>\n",
       "      <td>False</td>\n",
       "      <td>303.0</td>\n",
       "      <td>70.0</td>\n",
       "      <td>151.0</td>\n",
       "      <td>565.0</td>\n",
       "      <td>2.0</td>\n",
       "      <td>Willy Santantines</td>\n",
       "      <td>True</td>\n",
       "    </tr>\n",
       "    <tr>\n",
       "      <th>...</th>\n",
       "      <td>...</td>\n",
       "      <td>...</td>\n",
       "      <td>...</td>\n",
       "      <td>...</td>\n",
       "      <td>...</td>\n",
       "      <td>...</td>\n",
       "      <td>...</td>\n",
       "      <td>...</td>\n",
       "      <td>...</td>\n",
       "      <td>...</td>\n",
       "      <td>...</td>\n",
       "      <td>...</td>\n",
       "      <td>...</td>\n",
       "      <td>...</td>\n",
       "    </tr>\n",
       "    <tr>\n",
       "      <th>8688</th>\n",
       "      <td>9276_01</td>\n",
       "      <td>Europa</td>\n",
       "      <td>False</td>\n",
       "      <td>A/98/P</td>\n",
       "      <td>55 Cancri e</td>\n",
       "      <td>41.0</td>\n",
       "      <td>True</td>\n",
       "      <td>0.0</td>\n",
       "      <td>6819.0</td>\n",
       "      <td>0.0</td>\n",
       "      <td>1643.0</td>\n",
       "      <td>74.0</td>\n",
       "      <td>Gravior Noxnuther</td>\n",
       "      <td>False</td>\n",
       "    </tr>\n",
       "    <tr>\n",
       "      <th>8689</th>\n",
       "      <td>9278_01</td>\n",
       "      <td>Earth</td>\n",
       "      <td>True</td>\n",
       "      <td>G/1499/S</td>\n",
       "      <td>PSO J318.5-22</td>\n",
       "      <td>18.0</td>\n",
       "      <td>False</td>\n",
       "      <td>0.0</td>\n",
       "      <td>0.0</td>\n",
       "      <td>0.0</td>\n",
       "      <td>0.0</td>\n",
       "      <td>0.0</td>\n",
       "      <td>Kurta Mondalley</td>\n",
       "      <td>False</td>\n",
       "    </tr>\n",
       "    <tr>\n",
       "      <th>8690</th>\n",
       "      <td>9279_01</td>\n",
       "      <td>Earth</td>\n",
       "      <td>False</td>\n",
       "      <td>G/1500/S</td>\n",
       "      <td>TRAPPIST-1e</td>\n",
       "      <td>26.0</td>\n",
       "      <td>False</td>\n",
       "      <td>0.0</td>\n",
       "      <td>0.0</td>\n",
       "      <td>1872.0</td>\n",
       "      <td>1.0</td>\n",
       "      <td>0.0</td>\n",
       "      <td>Fayey Connon</td>\n",
       "      <td>True</td>\n",
       "    </tr>\n",
       "    <tr>\n",
       "      <th>8691</th>\n",
       "      <td>9280_01</td>\n",
       "      <td>Europa</td>\n",
       "      <td>False</td>\n",
       "      <td>E/608/S</td>\n",
       "      <td>55 Cancri e</td>\n",
       "      <td>32.0</td>\n",
       "      <td>False</td>\n",
       "      <td>0.0</td>\n",
       "      <td>1049.0</td>\n",
       "      <td>0.0</td>\n",
       "      <td>353.0</td>\n",
       "      <td>3235.0</td>\n",
       "      <td>Celeon Hontichre</td>\n",
       "      <td>False</td>\n",
       "    </tr>\n",
       "    <tr>\n",
       "      <th>8692</th>\n",
       "      <td>9280_02</td>\n",
       "      <td>Europa</td>\n",
       "      <td>False</td>\n",
       "      <td>E/608/S</td>\n",
       "      <td>TRAPPIST-1e</td>\n",
       "      <td>44.0</td>\n",
       "      <td>False</td>\n",
       "      <td>126.0</td>\n",
       "      <td>4688.0</td>\n",
       "      <td>0.0</td>\n",
       "      <td>0.0</td>\n",
       "      <td>12.0</td>\n",
       "      <td>Propsh Hontichre</td>\n",
       "      <td>True</td>\n",
       "    </tr>\n",
       "  </tbody>\n",
       "</table>\n",
       "<p>8693 rows × 14 columns</p>\n",
       "</div>"
      ],
      "text/plain": [
       "     PassengerId HomePlanet CryoSleep     Cabin    Destination   Age    VIP  \\\n",
       "0        0001_01     Europa     False     B/0/P    TRAPPIST-1e  39.0  False   \n",
       "1        0002_01      Earth     False     F/0/S    TRAPPIST-1e  24.0  False   \n",
       "2        0003_01     Europa     False     A/0/S    TRAPPIST-1e  58.0   True   \n",
       "3        0003_02     Europa     False     A/0/S    TRAPPIST-1e  33.0  False   \n",
       "4        0004_01      Earth     False     F/1/S    TRAPPIST-1e  16.0  False   \n",
       "...          ...        ...       ...       ...            ...   ...    ...   \n",
       "8688     9276_01     Europa     False    A/98/P    55 Cancri e  41.0   True   \n",
       "8689     9278_01      Earth      True  G/1499/S  PSO J318.5-22  18.0  False   \n",
       "8690     9279_01      Earth     False  G/1500/S    TRAPPIST-1e  26.0  False   \n",
       "8691     9280_01     Europa     False   E/608/S    55 Cancri e  32.0  False   \n",
       "8692     9280_02     Europa     False   E/608/S    TRAPPIST-1e  44.0  False   \n",
       "\n",
       "      RoomService  FoodCourt  ShoppingMall     Spa  VRDeck               Name  \\\n",
       "0             0.0        0.0           0.0     0.0     0.0    Maham Ofracculy   \n",
       "1           109.0        9.0          25.0   549.0    44.0       Juanna Vines   \n",
       "2            43.0     3576.0           0.0  6715.0    49.0      Altark Susent   \n",
       "3             0.0     1283.0         371.0  3329.0   193.0       Solam Susent   \n",
       "4           303.0       70.0         151.0   565.0     2.0  Willy Santantines   \n",
       "...           ...        ...           ...     ...     ...                ...   \n",
       "8688          0.0     6819.0           0.0  1643.0    74.0  Gravior Noxnuther   \n",
       "8689          0.0        0.0           0.0     0.0     0.0    Kurta Mondalley   \n",
       "8690          0.0        0.0        1872.0     1.0     0.0       Fayey Connon   \n",
       "8691          0.0     1049.0           0.0   353.0  3235.0   Celeon Hontichre   \n",
       "8692        126.0     4688.0           0.0     0.0    12.0   Propsh Hontichre   \n",
       "\n",
       "      Transported  \n",
       "0           False  \n",
       "1            True  \n",
       "2           False  \n",
       "3           False  \n",
       "4            True  \n",
       "...           ...  \n",
       "8688        False  \n",
       "8689        False  \n",
       "8690         True  \n",
       "8691        False  \n",
       "8692         True  \n",
       "\n",
       "[8693 rows x 14 columns]"
      ]
     },
     "execution_count": 4,
     "metadata": {},
     "output_type": "execute_result"
    }
   ],
   "source": [
    "train"
   ]
  },
  {
   "cell_type": "code",
   "execution_count": 5,
   "id": "c58ca5ae",
   "metadata": {
    "execution": {
     "iopub.execute_input": "2025-09-30T16:13:05.152025Z",
     "iopub.status.busy": "2025-09-30T16:13:05.151706Z",
     "iopub.status.idle": "2025-09-30T16:13:05.159234Z",
     "shell.execute_reply": "2025-09-30T16:13:05.157972Z"
    },
    "papermill": {
     "duration": 0.022456,
     "end_time": "2025-09-30T16:13:05.161390",
     "exception": false,
     "start_time": "2025-09-30T16:13:05.138934",
     "status": "completed"
    },
    "tags": []
   },
   "outputs": [],
   "source": [
    "y=train[\"Transported\"].astype(int)\n",
    "X=train.drop([\"Transported\"],axis=1)\n",
    "test_ids=test[\"PassengerId\"]"
   ]
  },
  {
   "cell_type": "code",
   "execution_count": 6,
   "id": "1a3771e6",
   "metadata": {
    "execution": {
     "iopub.execute_input": "2025-09-30T16:13:05.186973Z",
     "iopub.status.busy": "2025-09-30T16:13:05.186664Z",
     "iopub.status.idle": "2025-09-30T16:13:05.280588Z",
     "shell.execute_reply": "2025-09-30T16:13:05.279367Z"
    },
    "papermill": {
     "duration": 0.109041,
     "end_time": "2025-09-30T16:13:05.282800",
     "exception": false,
     "start_time": "2025-09-30T16:13:05.173759",
     "status": "completed"
    },
    "tags": []
   },
   "outputs": [
    {
     "name": "stderr",
     "output_type": "stream",
     "text": [
      "/tmp/ipykernel_13/1436614602.py:14: FutureWarning: A value is trying to be set on a copy of a DataFrame or Series through chained assignment using an inplace method.\n",
      "The behavior will change in pandas 3.0. This inplace method will never work because the intermediate object on which we are setting values always behaves as a copy.\n",
      "\n",
      "For example, when doing 'df[col].method(value, inplace=True)', try using 'df.method({col: value}, inplace=True)' or df[col] = df[col].method(value) instead, to perform the operation inplace on the original object.\n",
      "\n",
      "\n",
      "  X[col].fillna(X[col].median(), inplace=True)\n",
      "/tmp/ipykernel_13/1436614602.py:15: FutureWarning: A value is trying to be set on a copy of a DataFrame or Series through chained assignment using an inplace method.\n",
      "The behavior will change in pandas 3.0. This inplace method will never work because the intermediate object on which we are setting values always behaves as a copy.\n",
      "\n",
      "For example, when doing 'df[col].method(value, inplace=True)', try using 'df.method({col: value}, inplace=True)' or df[col] = df[col].method(value) instead, to perform the operation inplace on the original object.\n",
      "\n",
      "\n",
      "  test[col].fillna(X[col].median(), inplace=True)  # use train median for test\n",
      "/tmp/ipykernel_13/1436614602.py:20: FutureWarning: A value is trying to be set on a copy of a DataFrame or Series through chained assignment using an inplace method.\n",
      "The behavior will change in pandas 3.0. This inplace method will never work because the intermediate object on which we are setting values always behaves as a copy.\n",
      "\n",
      "For example, when doing 'df[col].method(value, inplace=True)', try using 'df.method({col: value}, inplace=True)' or df[col] = df[col].method(value) instead, to perform the operation inplace on the original object.\n",
      "\n",
      "\n",
      "  X[col].fillna(X[col].mode()[0], inplace=True)\n",
      "/tmp/ipykernel_13/1436614602.py:21: FutureWarning: A value is trying to be set on a copy of a DataFrame or Series through chained assignment using an inplace method.\n",
      "The behavior will change in pandas 3.0. This inplace method will never work because the intermediate object on which we are setting values always behaves as a copy.\n",
      "\n",
      "For example, when doing 'df[col].method(value, inplace=True)', try using 'df.method({col: value}, inplace=True)' or df[col] = df[col].method(value) instead, to perform the operation inplace on the original object.\n",
      "\n",
      "\n",
      "  test[col].fillna(X[col].mode()[0], inplace=True)  # use train mode for test\n",
      "/tmp/ipykernel_13/1436614602.py:20: FutureWarning: Downcasting object dtype arrays on .fillna, .ffill, .bfill is deprecated and will change in a future version. Call result.infer_objects(copy=False) instead. To opt-in to the future behavior, set `pd.set_option('future.no_silent_downcasting', True)`\n",
      "  X[col].fillna(X[col].mode()[0], inplace=True)\n",
      "/tmp/ipykernel_13/1436614602.py:21: FutureWarning: Downcasting object dtype arrays on .fillna, .ffill, .bfill is deprecated and will change in a future version. Call result.infer_objects(copy=False) instead. To opt-in to the future behavior, set `pd.set_option('future.no_silent_downcasting', True)`\n",
      "  test[col].fillna(X[col].mode()[0], inplace=True)  # use train mode for test\n"
     ]
    }
   ],
   "source": [
    "import pandas as pd\n",
    "\n",
    "# Load data\n",
    "train = pd.read_csv(\"/kaggle/input/spaceship-titanic/train.csv\")\n",
    "test  = pd.read_csv(\"/kaggle/input/spaceship-titanic/test.csv\")\n",
    "\n",
    "# Separate target\n",
    "y = train[\"Transported\"].astype(int)\n",
    "X = train.drop([\"Transported\", \"PassengerId\"], axis=1)  # drop ID\n",
    "\n",
    "# Fill missing numeric values with median\n",
    "numeric_cols = X.select_dtypes(include=[\"int64\", \"float64\"]).columns\n",
    "for col in numeric_cols:\n",
    "    X[col].fillna(X[col].median(), inplace=True)\n",
    "    test[col].fillna(X[col].median(), inplace=True)  # use train median for test\n",
    "\n",
    "# Fill missing categorical values with mode (most frequent)\n",
    "categorical_cols = X.select_dtypes(include=[\"object\", \"bool\"]).columns\n",
    "for col in categorical_cols:\n",
    "    X[col].fillna(X[col].mode()[0], inplace=True)\n",
    "    test[col].fillna(X[col].mode()[0], inplace=True)  # use train mode for test\n"
   ]
  },
  {
   "cell_type": "code",
   "execution_count": 7,
   "id": "9b732993",
   "metadata": {
    "execution": {
     "iopub.execute_input": "2025-09-30T16:13:05.307593Z",
     "iopub.status.busy": "2025-09-30T16:13:05.307279Z",
     "iopub.status.idle": "2025-09-30T16:13:05.341455Z",
     "shell.execute_reply": "2025-09-30T16:13:05.340560Z"
    },
    "papermill": {
     "duration": 0.048606,
     "end_time": "2025-09-30T16:13:05.343225",
     "exception": false,
     "start_time": "2025-09-30T16:13:05.294619",
     "status": "completed"
    },
    "tags": []
   },
   "outputs": [],
   "source": [
    "# Fill missing numeric values with median\n",
    "for col in numeric_cols:\n",
    "    X[col] = X[col].fillna(X[col].median())\n",
    "    test[col] = test[col].fillna(X[col].median())  # use train median for test\n",
    "\n",
    "# Fill missing categorical values with mode\n",
    "for col in categorical_cols:\n",
    "    X[col] = X[col].fillna(X[col].mode()[0])\n",
    "    test[col] = test[col].fillna(X[col].mode()[0])\n"
   ]
  },
  {
   "cell_type": "code",
   "execution_count": 8,
   "id": "7dd7f33f",
   "metadata": {
    "execution": {
     "iopub.execute_input": "2025-09-30T16:13:05.369539Z",
     "iopub.status.busy": "2025-09-30T16:13:05.369120Z",
     "iopub.status.idle": "2025-09-30T16:13:07.413414Z",
     "shell.execute_reply": "2025-09-30T16:13:07.412287Z"
    },
    "papermill": {
     "duration": 2.058733,
     "end_time": "2025-09-30T16:13:07.415232",
     "exception": false,
     "start_time": "2025-09-30T16:13:05.356499",
     "status": "completed"
    },
    "tags": []
   },
   "outputs": [],
   "source": [
    "from sklearn.preprocessing import StandardScaler\n"
   ]
  },
  {
   "cell_type": "code",
   "execution_count": 9,
   "id": "d778aa13",
   "metadata": {
    "execution": {
     "iopub.execute_input": "2025-09-30T16:13:07.440740Z",
     "iopub.status.busy": "2025-09-30T16:13:07.440056Z",
     "iopub.status.idle": "2025-09-30T16:13:07.913807Z",
     "shell.execute_reply": "2025-09-30T16:13:07.912779Z"
    },
    "papermill": {
     "duration": 0.488526,
     "end_time": "2025-09-30T16:13:07.915927",
     "exception": false,
     "start_time": "2025-09-30T16:13:07.427401",
     "status": "completed"
    },
    "tags": []
   },
   "outputs": [],
   "source": [
    "scaler=StandardScaler()\n",
    "X[numeric_cols]=scaler.fit_transform(X[numeric_cols])\n",
    "test[numeric_cols]=scaler.transform(test[numeric_cols])\n",
    "X=pd.get_dummies(X,columns=categorical_cols)\n",
    "test=pd.get_dummies(test,columns=categorical_cols)\n",
    "test=test.reindex(columns=X.columns,fill_value=0)"
   ]
  },
  {
   "cell_type": "code",
   "execution_count": 10,
   "id": "f62d98e0",
   "metadata": {
    "execution": {
     "iopub.execute_input": "2025-09-30T16:13:07.950667Z",
     "iopub.status.busy": "2025-09-30T16:13:07.950129Z",
     "iopub.status.idle": "2025-09-30T16:14:20.603598Z",
     "shell.execute_reply": "2025-09-30T16:14:20.602273Z"
    },
    "papermill": {
     "duration": 72.682682,
     "end_time": "2025-09-30T16:14:20.615910",
     "exception": false,
     "start_time": "2025-09-30T16:13:07.933228",
     "status": "completed"
    },
    "tags": []
   },
   "outputs": [
    {
     "name": "stdout",
     "output_type": "stream",
     "text": [
      "Validation Accuracy: 0.7814836112708453\n"
     ]
    }
   ],
   "source": [
    "from sklearn.ensemble import RandomForestClassifier\n",
    "from sklearn.model_selection import train_test_split\n",
    "\n",
    "X_train, X_val, y_train, y_val = train_test_split(X, y, test_size=0.2, random_state=42)\n",
    "\n",
    "model = RandomForestClassifier(n_estimators=200, random_state=42)\n",
    "model.fit(X_train, y_train)\n",
    "\n",
    "print(\"Validation Accuracy:\", model.score(X_val, y_val))\n"
   ]
  },
  {
   "cell_type": "code",
   "execution_count": 11,
   "id": "488a527e",
   "metadata": {
    "execution": {
     "iopub.execute_input": "2025-09-30T16:14:20.640520Z",
     "iopub.status.busy": "2025-09-30T16:14:20.640220Z",
     "iopub.status.idle": "2025-09-30T16:14:22.410655Z",
     "shell.execute_reply": "2025-09-30T16:14:22.409496Z"
    },
    "papermill": {
     "duration": 1.784969,
     "end_time": "2025-09-30T16:14:22.412487",
     "exception": false,
     "start_time": "2025-09-30T16:14:20.627518",
     "status": "completed"
    },
    "tags": []
   },
   "outputs": [],
   "source": [
    "preds = model.predict(test)\n",
    "\n",
    "submission = pd.DataFrame({\n",
    "    \"PassengerId\": pd.read_csv(\"/kaggle/input/spaceship-titanic/test.csv\")[\"PassengerId\"],\n",
    "    \"Transported\": preds.astype(bool)\n",
    "})\n",
    "\n",
    "submission.to_csv(\"submission.csv\", index=False)\n"
   ]
  },
  {
   "cell_type": "code",
   "execution_count": null,
   "id": "ea200c30",
   "metadata": {
    "papermill": {
     "duration": 0.011378,
     "end_time": "2025-09-30T16:14:22.435725",
     "exception": false,
     "start_time": "2025-09-30T16:14:22.424347",
     "status": "completed"
    },
    "tags": []
   },
   "outputs": [],
   "source": []
  },
  {
   "cell_type": "code",
   "execution_count": null,
   "id": "aa98f023",
   "metadata": {
    "papermill": {
     "duration": 0.011515,
     "end_time": "2025-09-30T16:14:22.518048",
     "exception": false,
     "start_time": "2025-09-30T16:14:22.506533",
     "status": "completed"
    },
    "tags": []
   },
   "outputs": [],
   "source": []
  },
  {
   "cell_type": "code",
   "execution_count": null,
   "id": "f9b6795d",
   "metadata": {
    "papermill": {
     "duration": 0.011505,
     "end_time": "2025-09-30T16:14:22.541616",
     "exception": false,
     "start_time": "2025-09-30T16:14:22.530111",
     "status": "completed"
    },
    "tags": []
   },
   "outputs": [],
   "source": []
  },
  {
   "cell_type": "code",
   "execution_count": null,
   "id": "5a78079f",
   "metadata": {
    "papermill": {
     "duration": 0.011544,
     "end_time": "2025-09-30T16:14:22.564917",
     "exception": false,
     "start_time": "2025-09-30T16:14:22.553373",
     "status": "completed"
    },
    "tags": []
   },
   "outputs": [],
   "source": []
  },
  {
   "cell_type": "code",
   "execution_count": null,
   "id": "a9ca9386",
   "metadata": {
    "papermill": {
     "duration": 0.011442,
     "end_time": "2025-09-30T16:14:22.588110",
     "exception": false,
     "start_time": "2025-09-30T16:14:22.576668",
     "status": "completed"
    },
    "tags": []
   },
   "outputs": [],
   "source": []
  },
  {
   "cell_type": "code",
   "execution_count": null,
   "id": "e1a4fb50",
   "metadata": {
    "papermill": {
     "duration": 0.011345,
     "end_time": "2025-09-30T16:14:22.611274",
     "exception": false,
     "start_time": "2025-09-30T16:14:22.599929",
     "status": "completed"
    },
    "tags": []
   },
   "outputs": [],
   "source": []
  },
  {
   "cell_type": "code",
   "execution_count": null,
   "id": "efff78fe",
   "metadata": {
    "papermill": {
     "duration": 0.011475,
     "end_time": "2025-09-30T16:14:22.634580",
     "exception": false,
     "start_time": "2025-09-30T16:14:22.623105",
     "status": "completed"
    },
    "tags": []
   },
   "outputs": [],
   "source": []
  },
  {
   "cell_type": "code",
   "execution_count": null,
   "id": "31fe9fa5",
   "metadata": {
    "papermill": {
     "duration": 0.011448,
     "end_time": "2025-09-30T16:14:22.657692",
     "exception": false,
     "start_time": "2025-09-30T16:14:22.646244",
     "status": "completed"
    },
    "tags": []
   },
   "outputs": [],
   "source": []
  },
  {
   "cell_type": "code",
   "execution_count": null,
   "id": "e7e43dac",
   "metadata": {
    "papermill": {
     "duration": 0.01132,
     "end_time": "2025-09-30T16:14:22.680727",
     "exception": false,
     "start_time": "2025-09-30T16:14:22.669407",
     "status": "completed"
    },
    "tags": []
   },
   "outputs": [],
   "source": []
  },
  {
   "cell_type": "code",
   "execution_count": null,
   "id": "65c66e9b",
   "metadata": {
    "papermill": {
     "duration": 0.011983,
     "end_time": "2025-09-30T16:14:22.704671",
     "exception": false,
     "start_time": "2025-09-30T16:14:22.692688",
     "status": "completed"
    },
    "tags": []
   },
   "outputs": [],
   "source": []
  },
  {
   "cell_type": "code",
   "execution_count": null,
   "id": "8dc48d7d",
   "metadata": {
    "papermill": {
     "duration": 0.01194,
     "end_time": "2025-09-30T16:14:22.728559",
     "exception": false,
     "start_time": "2025-09-30T16:14:22.716619",
     "status": "completed"
    },
    "tags": []
   },
   "outputs": [],
   "source": []
  },
  {
   "cell_type": "code",
   "execution_count": null,
   "id": "a950d4e0",
   "metadata": {
    "papermill": {
     "duration": 0.011948,
     "end_time": "2025-09-30T16:14:22.752357",
     "exception": false,
     "start_time": "2025-09-30T16:14:22.740409",
     "status": "completed"
    },
    "tags": []
   },
   "outputs": [],
   "source": []
  },
  {
   "cell_type": "code",
   "execution_count": null,
   "id": "23d89f61",
   "metadata": {
    "papermill": {
     "duration": 0.011554,
     "end_time": "2025-09-30T16:14:22.775754",
     "exception": false,
     "start_time": "2025-09-30T16:14:22.764200",
     "status": "completed"
    },
    "tags": []
   },
   "outputs": [],
   "source": []
  },
  {
   "cell_type": "code",
   "execution_count": null,
   "id": "1e8d2073",
   "metadata": {
    "papermill": {
     "duration": 0.011727,
     "end_time": "2025-09-30T16:14:22.799978",
     "exception": false,
     "start_time": "2025-09-30T16:14:22.788251",
     "status": "completed"
    },
    "tags": []
   },
   "outputs": [],
   "source": []
  },
  {
   "cell_type": "code",
   "execution_count": null,
   "id": "f4eac1f7",
   "metadata": {
    "papermill": {
     "duration": 0.011474,
     "end_time": "2025-09-30T16:14:22.823212",
     "exception": false,
     "start_time": "2025-09-30T16:14:22.811738",
     "status": "completed"
    },
    "tags": []
   },
   "outputs": [],
   "source": []
  },
  {
   "cell_type": "code",
   "execution_count": null,
   "id": "889b7536",
   "metadata": {
    "papermill": {
     "duration": 0.01145,
     "end_time": "2025-09-30T16:14:22.846617",
     "exception": false,
     "start_time": "2025-09-30T16:14:22.835167",
     "status": "completed"
    },
    "tags": []
   },
   "outputs": [],
   "source": []
  },
  {
   "cell_type": "code",
   "execution_count": null,
   "id": "ad9ba0a7",
   "metadata": {
    "papermill": {
     "duration": 0.01166,
     "end_time": "2025-09-30T16:14:22.870122",
     "exception": false,
     "start_time": "2025-09-30T16:14:22.858462",
     "status": "completed"
    },
    "tags": []
   },
   "outputs": [],
   "source": []
  },
  {
   "cell_type": "code",
   "execution_count": null,
   "id": "eaf782c3",
   "metadata": {
    "papermill": {
     "duration": 0.011635,
     "end_time": "2025-09-30T16:14:22.893384",
     "exception": false,
     "start_time": "2025-09-30T16:14:22.881749",
     "status": "completed"
    },
    "tags": []
   },
   "outputs": [],
   "source": []
  },
  {
   "cell_type": "code",
   "execution_count": null,
   "id": "32d24e36",
   "metadata": {
    "papermill": {
     "duration": 0.012158,
     "end_time": "2025-09-30T16:14:22.917112",
     "exception": false,
     "start_time": "2025-09-30T16:14:22.904954",
     "status": "completed"
    },
    "tags": []
   },
   "outputs": [],
   "source": []
  },
  {
   "cell_type": "code",
   "execution_count": null,
   "id": "7bb26536",
   "metadata": {
    "papermill": {
     "duration": 0.011398,
     "end_time": "2025-09-30T16:14:22.940351",
     "exception": false,
     "start_time": "2025-09-30T16:14:22.928953",
     "status": "completed"
    },
    "tags": []
   },
   "outputs": [],
   "source": []
  },
  {
   "cell_type": "code",
   "execution_count": null,
   "id": "4743c0b0",
   "metadata": {
    "papermill": {
     "duration": 0.012188,
     "end_time": "2025-09-30T16:14:22.964423",
     "exception": false,
     "start_time": "2025-09-30T16:14:22.952235",
     "status": "completed"
    },
    "tags": []
   },
   "outputs": [],
   "source": []
  },
  {
   "cell_type": "code",
   "execution_count": null,
   "id": "79b561c1",
   "metadata": {
    "papermill": {
     "duration": 0.011957,
     "end_time": "2025-09-30T16:14:22.988472",
     "exception": false,
     "start_time": "2025-09-30T16:14:22.976515",
     "status": "completed"
    },
    "tags": []
   },
   "outputs": [],
   "source": []
  },
  {
   "cell_type": "code",
   "execution_count": null,
   "id": "160b72cd",
   "metadata": {
    "papermill": {
     "duration": 0.011787,
     "end_time": "2025-09-30T16:14:23.012598",
     "exception": false,
     "start_time": "2025-09-30T16:14:23.000811",
     "status": "completed"
    },
    "tags": []
   },
   "outputs": [],
   "source": []
  },
  {
   "cell_type": "code",
   "execution_count": null,
   "id": "ba5a2f0d",
   "metadata": {
    "papermill": {
     "duration": 0.011899,
     "end_time": "2025-09-30T16:14:23.037640",
     "exception": false,
     "start_time": "2025-09-30T16:14:23.025741",
     "status": "completed"
    },
    "tags": []
   },
   "outputs": [],
   "source": []
  },
  {
   "cell_type": "code",
   "execution_count": null,
   "id": "07d4deb0",
   "metadata": {
    "papermill": {
     "duration": 0.011774,
     "end_time": "2025-09-30T16:14:23.062239",
     "exception": false,
     "start_time": "2025-09-30T16:14:23.050465",
     "status": "completed"
    },
    "tags": []
   },
   "outputs": [],
   "source": []
  },
  {
   "cell_type": "code",
   "execution_count": null,
   "id": "c7b9815e",
   "metadata": {
    "papermill": {
     "duration": 0.011717,
     "end_time": "2025-09-30T16:14:23.085834",
     "exception": false,
     "start_time": "2025-09-30T16:14:23.074117",
     "status": "completed"
    },
    "tags": []
   },
   "outputs": [],
   "source": []
  },
  {
   "cell_type": "code",
   "execution_count": null,
   "id": "ca843ff4",
   "metadata": {
    "papermill": {
     "duration": 0.011719,
     "end_time": "2025-09-30T16:14:23.109417",
     "exception": false,
     "start_time": "2025-09-30T16:14:23.097698",
     "status": "completed"
    },
    "tags": []
   },
   "outputs": [],
   "source": []
  },
  {
   "cell_type": "code",
   "execution_count": null,
   "id": "4e5c6c96",
   "metadata": {
    "papermill": {
     "duration": 0.012482,
     "end_time": "2025-09-30T16:14:23.134596",
     "exception": false,
     "start_time": "2025-09-30T16:14:23.122114",
     "status": "completed"
    },
    "tags": []
   },
   "outputs": [],
   "source": []
  },
  {
   "cell_type": "code",
   "execution_count": null,
   "id": "4b32acca",
   "metadata": {
    "papermill": {
     "duration": 0.011642,
     "end_time": "2025-09-30T16:14:23.158902",
     "exception": false,
     "start_time": "2025-09-30T16:14:23.147260",
     "status": "completed"
    },
    "tags": []
   },
   "outputs": [],
   "source": []
  },
  {
   "cell_type": "code",
   "execution_count": null,
   "id": "e71cc020",
   "metadata": {
    "papermill": {
     "duration": 0.011709,
     "end_time": "2025-09-30T16:14:23.182470",
     "exception": false,
     "start_time": "2025-09-30T16:14:23.170761",
     "status": "completed"
    },
    "tags": []
   },
   "outputs": [],
   "source": []
  },
  {
   "cell_type": "code",
   "execution_count": null,
   "id": "91be0e8b",
   "metadata": {
    "papermill": {
     "duration": 0.01187,
     "end_time": "2025-09-30T16:14:23.206382",
     "exception": false,
     "start_time": "2025-09-30T16:14:23.194512",
     "status": "completed"
    },
    "tags": []
   },
   "outputs": [],
   "source": []
  },
  {
   "cell_type": "code",
   "execution_count": null,
   "id": "34edf89b",
   "metadata": {
    "papermill": {
     "duration": 0.012258,
     "end_time": "2025-09-30T16:14:23.230615",
     "exception": false,
     "start_time": "2025-09-30T16:14:23.218357",
     "status": "completed"
    },
    "tags": []
   },
   "outputs": [],
   "source": []
  },
  {
   "cell_type": "code",
   "execution_count": null,
   "id": "7a97d5c3",
   "metadata": {
    "papermill": {
     "duration": 0.01179,
     "end_time": "2025-09-30T16:14:23.254675",
     "exception": false,
     "start_time": "2025-09-30T16:14:23.242885",
     "status": "completed"
    },
    "tags": []
   },
   "outputs": [],
   "source": []
  },
  {
   "cell_type": "code",
   "execution_count": null,
   "id": "390bba0d",
   "metadata": {
    "papermill": {
     "duration": 0.01207,
     "end_time": "2025-09-30T16:14:23.278548",
     "exception": false,
     "start_time": "2025-09-30T16:14:23.266478",
     "status": "completed"
    },
    "tags": []
   },
   "outputs": [],
   "source": []
  },
  {
   "cell_type": "code",
   "execution_count": null,
   "id": "5a5a867e",
   "metadata": {
    "papermill": {
     "duration": 0.013839,
     "end_time": "2025-09-30T16:14:23.304313",
     "exception": false,
     "start_time": "2025-09-30T16:14:23.290474",
     "status": "completed"
    },
    "tags": []
   },
   "outputs": [],
   "source": []
  },
  {
   "cell_type": "code",
   "execution_count": null,
   "id": "f3660893",
   "metadata": {
    "papermill": {
     "duration": 0.011592,
     "end_time": "2025-09-30T16:14:23.327879",
     "exception": false,
     "start_time": "2025-09-30T16:14:23.316287",
     "status": "completed"
    },
    "tags": []
   },
   "outputs": [],
   "source": []
  },
  {
   "cell_type": "code",
   "execution_count": null,
   "id": "466e229c",
   "metadata": {
    "papermill": {
     "duration": 0.011628,
     "end_time": "2025-09-30T16:14:23.351413",
     "exception": false,
     "start_time": "2025-09-30T16:14:23.339785",
     "status": "completed"
    },
    "tags": []
   },
   "outputs": [],
   "source": []
  },
  {
   "cell_type": "code",
   "execution_count": null,
   "id": "a6bcfbeb",
   "metadata": {
    "papermill": {
     "duration": 0.011537,
     "end_time": "2025-09-30T16:14:23.374870",
     "exception": false,
     "start_time": "2025-09-30T16:14:23.363333",
     "status": "completed"
    },
    "tags": []
   },
   "outputs": [],
   "source": []
  },
  {
   "cell_type": "code",
   "execution_count": null,
   "id": "bb484d6f",
   "metadata": {
    "papermill": {
     "duration": 0.011824,
     "end_time": "2025-09-30T16:14:23.398601",
     "exception": false,
     "start_time": "2025-09-30T16:14:23.386777",
     "status": "completed"
    },
    "tags": []
   },
   "outputs": [],
   "source": []
  },
  {
   "cell_type": "code",
   "execution_count": null,
   "id": "3aefde6a",
   "metadata": {
    "papermill": {
     "duration": 0.011989,
     "end_time": "2025-09-30T16:14:23.422380",
     "exception": false,
     "start_time": "2025-09-30T16:14:23.410391",
     "status": "completed"
    },
    "tags": []
   },
   "outputs": [],
   "source": []
  },
  {
   "cell_type": "code",
   "execution_count": null,
   "id": "02155ebd",
   "metadata": {
    "papermill": {
     "duration": 0.011541,
     "end_time": "2025-09-30T16:14:23.446057",
     "exception": false,
     "start_time": "2025-09-30T16:14:23.434516",
     "status": "completed"
    },
    "tags": []
   },
   "outputs": [],
   "source": []
  },
  {
   "cell_type": "code",
   "execution_count": null,
   "id": "f3108d88",
   "metadata": {
    "papermill": {
     "duration": 0.011926,
     "end_time": "2025-09-30T16:14:23.470023",
     "exception": false,
     "start_time": "2025-09-30T16:14:23.458097",
     "status": "completed"
    },
    "tags": []
   },
   "outputs": [],
   "source": []
  },
  {
   "cell_type": "code",
   "execution_count": null,
   "id": "60c13fba",
   "metadata": {
    "papermill": {
     "duration": 0.011593,
     "end_time": "2025-09-30T16:14:23.493898",
     "exception": false,
     "start_time": "2025-09-30T16:14:23.482305",
     "status": "completed"
    },
    "tags": []
   },
   "outputs": [],
   "source": []
  },
  {
   "cell_type": "code",
   "execution_count": null,
   "id": "b8aacacf",
   "metadata": {
    "papermill": {
     "duration": 0.011801,
     "end_time": "2025-09-30T16:14:23.517368",
     "exception": false,
     "start_time": "2025-09-30T16:14:23.505567",
     "status": "completed"
    },
    "tags": []
   },
   "outputs": [],
   "source": []
  },
  {
   "cell_type": "code",
   "execution_count": null,
   "id": "6c6e789b",
   "metadata": {
    "papermill": {
     "duration": 0.011716,
     "end_time": "2025-09-30T16:14:23.541465",
     "exception": false,
     "start_time": "2025-09-30T16:14:23.529749",
     "status": "completed"
    },
    "tags": []
   },
   "outputs": [],
   "source": []
  },
  {
   "cell_type": "code",
   "execution_count": null,
   "id": "eb41fbfd",
   "metadata": {
    "papermill": {
     "duration": 0.011574,
     "end_time": "2025-09-30T16:14:23.565117",
     "exception": false,
     "start_time": "2025-09-30T16:14:23.553543",
     "status": "completed"
    },
    "tags": []
   },
   "outputs": [],
   "source": []
  },
  {
   "cell_type": "code",
   "execution_count": null,
   "id": "31b03d07",
   "metadata": {
    "papermill": {
     "duration": 0.01223,
     "end_time": "2025-09-30T16:14:23.590015",
     "exception": false,
     "start_time": "2025-09-30T16:14:23.577785",
     "status": "completed"
    },
    "tags": []
   },
   "outputs": [],
   "source": []
  },
  {
   "cell_type": "code",
   "execution_count": null,
   "id": "175b1a13",
   "metadata": {
    "papermill": {
     "duration": 0.011781,
     "end_time": "2025-09-30T16:14:23.614282",
     "exception": false,
     "start_time": "2025-09-30T16:14:23.602501",
     "status": "completed"
    },
    "tags": []
   },
   "outputs": [],
   "source": []
  },
  {
   "cell_type": "code",
   "execution_count": null,
   "id": "be054d2d",
   "metadata": {
    "papermill": {
     "duration": 0.011844,
     "end_time": "2025-09-30T16:14:23.638621",
     "exception": false,
     "start_time": "2025-09-30T16:14:23.626777",
     "status": "completed"
    },
    "tags": []
   },
   "outputs": [],
   "source": []
  },
  {
   "cell_type": "code",
   "execution_count": null,
   "id": "974f190b",
   "metadata": {
    "papermill": {
     "duration": 0.011629,
     "end_time": "2025-09-30T16:14:23.662375",
     "exception": false,
     "start_time": "2025-09-30T16:14:23.650746",
     "status": "completed"
    },
    "tags": []
   },
   "outputs": [],
   "source": []
  },
  {
   "cell_type": "code",
   "execution_count": null,
   "id": "1c80b4ee",
   "metadata": {
    "papermill": {
     "duration": 0.011736,
     "end_time": "2025-09-30T16:14:23.686021",
     "exception": false,
     "start_time": "2025-09-30T16:14:23.674285",
     "status": "completed"
    },
    "tags": []
   },
   "outputs": [],
   "source": []
  },
  {
   "cell_type": "code",
   "execution_count": null,
   "id": "e7c84afe",
   "metadata": {
    "papermill": {
     "duration": 0.011814,
     "end_time": "2025-09-30T16:14:23.709746",
     "exception": false,
     "start_time": "2025-09-30T16:14:23.697932",
     "status": "completed"
    },
    "tags": []
   },
   "outputs": [],
   "source": []
  },
  {
   "cell_type": "code",
   "execution_count": null,
   "id": "1d118298",
   "metadata": {
    "papermill": {
     "duration": 0.012345,
     "end_time": "2025-09-30T16:14:23.733889",
     "exception": false,
     "start_time": "2025-09-30T16:14:23.721544",
     "status": "completed"
    },
    "tags": []
   },
   "outputs": [],
   "source": []
  },
  {
   "cell_type": "code",
   "execution_count": null,
   "id": "43c94085",
   "metadata": {
    "papermill": {
     "duration": 0.0118,
     "end_time": "2025-09-30T16:14:23.757631",
     "exception": false,
     "start_time": "2025-09-30T16:14:23.745831",
     "status": "completed"
    },
    "tags": []
   },
   "outputs": [],
   "source": []
  },
  {
   "cell_type": "code",
   "execution_count": null,
   "id": "61582535",
   "metadata": {
    "papermill": {
     "duration": 0.011515,
     "end_time": "2025-09-30T16:14:23.781135",
     "exception": false,
     "start_time": "2025-09-30T16:14:23.769620",
     "status": "completed"
    },
    "tags": []
   },
   "outputs": [],
   "source": []
  },
  {
   "cell_type": "code",
   "execution_count": null,
   "id": "81ad13d3",
   "metadata": {
    "papermill": {
     "duration": 0.011777,
     "end_time": "2025-09-30T16:14:23.805247",
     "exception": false,
     "start_time": "2025-09-30T16:14:23.793470",
     "status": "completed"
    },
    "tags": []
   },
   "outputs": [],
   "source": []
  },
  {
   "cell_type": "code",
   "execution_count": null,
   "id": "951a79e3",
   "metadata": {
    "papermill": {
     "duration": 0.011809,
     "end_time": "2025-09-30T16:14:23.829270",
     "exception": false,
     "start_time": "2025-09-30T16:14:23.817461",
     "status": "completed"
    },
    "tags": []
   },
   "outputs": [],
   "source": []
  },
  {
   "cell_type": "code",
   "execution_count": null,
   "id": "46d4a4ac",
   "metadata": {
    "papermill": {
     "duration": 0.01186,
     "end_time": "2025-09-30T16:14:23.852908",
     "exception": false,
     "start_time": "2025-09-30T16:14:23.841048",
     "status": "completed"
    },
    "tags": []
   },
   "outputs": [],
   "source": []
  },
  {
   "cell_type": "code",
   "execution_count": null,
   "id": "70734bd2",
   "metadata": {
    "papermill": {
     "duration": 0.011518,
     "end_time": "2025-09-30T16:14:23.876166",
     "exception": false,
     "start_time": "2025-09-30T16:14:23.864648",
     "status": "completed"
    },
    "tags": []
   },
   "outputs": [],
   "source": []
  },
  {
   "cell_type": "code",
   "execution_count": null,
   "id": "ccda627d",
   "metadata": {
    "papermill": {
     "duration": 0.011715,
     "end_time": "2025-09-30T16:14:23.900531",
     "exception": false,
     "start_time": "2025-09-30T16:14:23.888816",
     "status": "completed"
    },
    "tags": []
   },
   "outputs": [],
   "source": []
  },
  {
   "cell_type": "code",
   "execution_count": null,
   "id": "55afd742",
   "metadata": {
    "papermill": {
     "duration": 0.012281,
     "end_time": "2025-09-30T16:14:23.924745",
     "exception": false,
     "start_time": "2025-09-30T16:14:23.912464",
     "status": "completed"
    },
    "tags": []
   },
   "outputs": [],
   "source": []
  },
  {
   "cell_type": "code",
   "execution_count": null,
   "id": "b8af941e",
   "metadata": {
    "papermill": {
     "duration": 0.011776,
     "end_time": "2025-09-30T16:14:23.948389",
     "exception": false,
     "start_time": "2025-09-30T16:14:23.936613",
     "status": "completed"
    },
    "tags": []
   },
   "outputs": [],
   "source": []
  },
  {
   "cell_type": "code",
   "execution_count": null,
   "id": "58f5b228",
   "metadata": {
    "papermill": {
     "duration": 0.011601,
     "end_time": "2025-09-30T16:14:23.971808",
     "exception": false,
     "start_time": "2025-09-30T16:14:23.960207",
     "status": "completed"
    },
    "tags": []
   },
   "outputs": [],
   "source": []
  },
  {
   "cell_type": "code",
   "execution_count": null,
   "id": "9476fbab",
   "metadata": {
    "papermill": {
     "duration": 0.012748,
     "end_time": "2025-09-30T16:14:23.996793",
     "exception": false,
     "start_time": "2025-09-30T16:14:23.984045",
     "status": "completed"
    },
    "tags": []
   },
   "outputs": [],
   "source": []
  },
  {
   "cell_type": "code",
   "execution_count": null,
   "id": "d1c6f967",
   "metadata": {
    "papermill": {
     "duration": 0.012647,
     "end_time": "2025-09-30T16:14:24.021483",
     "exception": false,
     "start_time": "2025-09-30T16:14:24.008836",
     "status": "completed"
    },
    "tags": []
   },
   "outputs": [],
   "source": []
  },
  {
   "cell_type": "code",
   "execution_count": null,
   "id": "2211f9cc",
   "metadata": {
    "papermill": {
     "duration": 0.011937,
     "end_time": "2025-09-30T16:14:24.046692",
     "exception": false,
     "start_time": "2025-09-30T16:14:24.034755",
     "status": "completed"
    },
    "tags": []
   },
   "outputs": [],
   "source": []
  },
  {
   "cell_type": "code",
   "execution_count": null,
   "id": "ad158c26",
   "metadata": {
    "papermill": {
     "duration": 0.011933,
     "end_time": "2025-09-30T16:14:24.070458",
     "exception": false,
     "start_time": "2025-09-30T16:14:24.058525",
     "status": "completed"
    },
    "tags": []
   },
   "outputs": [],
   "source": []
  },
  {
   "cell_type": "code",
   "execution_count": null,
   "id": "566e40dc",
   "metadata": {
    "papermill": {
     "duration": 0.011698,
     "end_time": "2025-09-30T16:14:24.094313",
     "exception": false,
     "start_time": "2025-09-30T16:14:24.082615",
     "status": "completed"
    },
    "tags": []
   },
   "outputs": [],
   "source": []
  },
  {
   "cell_type": "code",
   "execution_count": null,
   "id": "099aa30e",
   "metadata": {
    "papermill": {
     "duration": 0.011897,
     "end_time": "2025-09-30T16:14:24.118230",
     "exception": false,
     "start_time": "2025-09-30T16:14:24.106333",
     "status": "completed"
    },
    "tags": []
   },
   "outputs": [],
   "source": []
  },
  {
   "cell_type": "code",
   "execution_count": null,
   "id": "dde59f0a",
   "metadata": {
    "papermill": {
     "duration": 0.011854,
     "end_time": "2025-09-30T16:14:24.142138",
     "exception": false,
     "start_time": "2025-09-30T16:14:24.130284",
     "status": "completed"
    },
    "tags": []
   },
   "outputs": [],
   "source": []
  },
  {
   "cell_type": "code",
   "execution_count": null,
   "id": "2c4c1551",
   "metadata": {
    "papermill": {
     "duration": 0.011643,
     "end_time": "2025-09-30T16:14:24.165744",
     "exception": false,
     "start_time": "2025-09-30T16:14:24.154101",
     "status": "completed"
    },
    "tags": []
   },
   "outputs": [],
   "source": []
  },
  {
   "cell_type": "code",
   "execution_count": null,
   "id": "b072dfcf",
   "metadata": {
    "papermill": {
     "duration": 0.01173,
     "end_time": "2025-09-30T16:14:24.189462",
     "exception": false,
     "start_time": "2025-09-30T16:14:24.177732",
     "status": "completed"
    },
    "tags": []
   },
   "outputs": [],
   "source": []
  },
  {
   "cell_type": "code",
   "execution_count": null,
   "id": "6d61f3ef",
   "metadata": {
    "papermill": {
     "duration": 0.011627,
     "end_time": "2025-09-30T16:14:24.213226",
     "exception": false,
     "start_time": "2025-09-30T16:14:24.201599",
     "status": "completed"
    },
    "tags": []
   },
   "outputs": [],
   "source": []
  }
 ],
 "metadata": {
  "kaggle": {
   "accelerator": "none",
   "dataSources": [
    {
     "databundleVersionId": 3220602,
     "sourceId": 34377,
     "sourceType": "competition"
    }
   ],
   "dockerImageVersionId": 31089,
   "isGpuEnabled": false,
   "isInternetEnabled": true,
   "language": "python",
   "sourceType": "notebook"
  },
  "kernelspec": {
   "display_name": "Python 3",
   "language": "python",
   "name": "python3"
  },
  "language_info": {
   "codemirror_mode": {
    "name": "ipython",
    "version": 3
   },
   "file_extension": ".py",
   "mimetype": "text/x-python",
   "name": "python",
   "nbconvert_exporter": "python",
   "pygments_lexer": "ipython3",
   "version": "3.11.13"
  },
  "papermill": {
   "default_parameters": {},
   "duration": 89.206386,
   "end_time": "2025-09-30T16:14:24.947294",
   "environment_variables": {},
   "exception": null,
   "input_path": "__notebook__.ipynb",
   "output_path": "__notebook__.ipynb",
   "parameters": {},
   "start_time": "2025-09-30T16:12:55.740908",
   "version": "2.6.0"
  }
 },
 "nbformat": 4,
 "nbformat_minor": 5
}
